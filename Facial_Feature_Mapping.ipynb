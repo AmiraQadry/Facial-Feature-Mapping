{
  "nbformat": 4,
  "nbformat_minor": 0,
  "metadata": {
    "colab": {
      "provenance": [],
      "gpuType": "T4"
    },
    "kernelspec": {
      "name": "python3",
      "display_name": "Python 3"
    },
    "language_info": {
      "name": "python"
    },
    "accelerator": "GPU"
  },
  "cells": [
    {
      "cell_type": "markdown",
      "source": [
        "# Extract Data from Dataset.zip"
      ],
      "metadata": {
        "id": "Iak2D8X7Sqxv"
      }
    },
    {
      "cell_type": "code",
      "execution_count": 1,
      "metadata": {
        "id": "_Mpoq4LdQX1b"
      },
      "outputs": [],
      "source": [
        "import zipfile\n",
        "import os\n",
        "\n",
        "# Path to the dataset zip file\n",
        "zip_file_path = '/content/drive/MyDrive/Dataset.zip'\n",
        "extract_dir = 'path/to/extracted_data/'\n",
        "\n",
        "# Extract the zip file\n",
        "with zipfile.ZipFile(zip_file_path, 'r') as zip_ref:\n",
        "    zip_ref.extractall(extract_dir)\n",
        "\n",
        "# Define paths for the extracted content\n",
        "train_images_dir = os.path.join(extract_dir, 'images/train_images')\n",
        "test_images_dir = os.path.join(extract_dir, 'images/test_images')\n",
        "train_csv_path = os.path.join(extract_dir, 'training.csv')"
      ]
    },
    {
      "cell_type": "markdown",
      "source": [
        "# Load and Preprocess the Images"
      ],
      "metadata": {
        "id": "z98h2xlXVqsb"
      }
    },
    {
      "cell_type": "code",
      "source": [
        "from PIL import Image\n",
        "import numpy as np\n",
        "import pandas as pd\n",
        "\n",
        "# Function to load images\n",
        "def load_images(image_folder):\n",
        "    images = []\n",
        "    for filename in sorted(os.listdir(image_folder)):\n",
        "        if filename.endswith(\".jpg\") or filename.endswith(\".png\"):\n",
        "            img = Image.open(os.path.join(image_folder, filename)).convert('L') # Convert to grayscale\n",
        "            images.append(np.array(img))\n",
        "    return np.array(images)\n",
        "\n",
        "train_images = load_images(train_images_dir)\n",
        "test_images = load_images(test_images_dir)"
      ],
      "metadata": {
        "id": "EH9MvT-KVrek"
      },
      "execution_count": 2,
      "outputs": []
    },
    {
      "cell_type": "code",
      "source": [
        "def preprocess_images(images, target_size=(96, 96)):\n",
        "    processed_images = []\n",
        "    for img in images:\n",
        "        img = Image.fromarray(img).resize(target_size) # Resize image\n",
        "        img = np.array(img) / 255.0 # Normalize image\n",
        "        processed_images.append(img.reshape(target_size + (1,))) # Add channel dimension\n",
        "    return np.array(processed_images)\n",
        "\n",
        "processed_train_images = preprocess_images(train_images)\n",
        "processed_test_images = preprocess_images(test_images)\n",
        "processed_train_images.shape, processed_test_images.shape"
      ],
      "metadata": {
        "colab": {
          "base_uri": "https://localhost:8080/"
        },
        "id": "yqz7cNLbWvS6",
        "outputId": "a1b9749f-34de-4013-bb67-c265b106c511"
      },
      "execution_count": 3,
      "outputs": [
        {
          "output_type": "execute_result",
          "data": {
            "text/plain": [
              "((7049, 96, 96, 1), (1783, 96, 96, 1))"
            ]
          },
          "metadata": {},
          "execution_count": 3
        }
      ]
    },
    {
      "cell_type": "markdown",
      "source": [
        "# Load and Preprocess the CSV File"
      ],
      "metadata": {
        "id": "HD0up9sLWEie"
      }
    },
    {
      "cell_type": "code",
      "source": [
        "# Load the keypoints CSV file\n",
        "keypoints_df = pd.read_csv(train_csv_path)"
      ],
      "metadata": {
        "id": "B5lK4liOVtMs"
      },
      "execution_count": 4,
      "outputs": []
    },
    {
      "cell_type": "code",
      "source": [
        "# Function to normalize keypoints\n",
        "def normalize_keypoints(keypoints_df):\n",
        "    keypoints = keypoints_df.values\n",
        "    keypoints = keypoints / 96.0 # Assuming original images are 96x96\n",
        "    return keypoints\n",
        "\n",
        "normalized_keypoints = normalize_keypoints(keypoints_df)\n",
        "print(normalized_keypoints)"
      ],
      "metadata": {
        "colab": {
          "base_uri": "https://localhost:8080/"
        },
        "id": "Ur5sgKQuXAYS",
        "outputId": "3f727cbd-ba08-4a36-eeaa-2ea2b9bb050d"
      },
      "execution_count": 5,
      "outputs": [
        {
          "output_type": "stream",
          "name": "stdout",
          "text": [
            "[[0.68784962 0.40627368 0.31486466 ... 0.75974436 0.4492782  0.88006015]\n",
            " [0.67013475 0.36427163 0.31197163 ... 0.73194326 0.47362411 0.89041844]\n",
            " [0.67767763 0.36364211 0.32191447 ... 0.73116447 0.49244737 0.81936842]\n",
            " ...\n",
            " [0.69469512 0.38380439 0.32985854 ...        nan 0.51523512 0.81372   ]\n",
            " [0.73921961 0.41514235 0.31815922 ...        nan 0.52151235 0.82902549]\n",
            " [0.69727407 0.45233864 0.32391728 ...        nan 0.47813    0.86221975]]\n"
          ]
        }
      ]
    },
    {
      "cell_type": "code",
      "source": [
        "# Check for NaN values in the keypoints\n",
        "print(np.isnan(normalized_keypoints).sum())\n",
        "\n",
        "# Optionally fill NaN values with 0 or mean\n",
        "normalized_keypoints = np.nan_to_num(normalized_keypoints, nan=0.0)"
      ],
      "metadata": {
        "colab": {
          "base_uri": "https://localhost:8080/"
        },
        "id": "KyT_oLnkaTmZ",
        "outputId": "82f74c3d-241b-47b5-919a-8b526045a22d"
      },
      "execution_count": 6,
      "outputs": [
        {
          "output_type": "stream",
          "name": "stdout",
          "text": [
            "105412\n"
          ]
        }
      ]
    },
    {
      "cell_type": "code",
      "source": [
        "print(np.isnan(normalized_keypoints).sum())"
      ],
      "metadata": {
        "colab": {
          "base_uri": "https://localhost:8080/"
        },
        "id": "L-JonH78a2H-",
        "outputId": "f8e63528-fa3e-483e-9ed6-b92488c8e57d"
      },
      "execution_count": 7,
      "outputs": [
        {
          "output_type": "stream",
          "name": "stdout",
          "text": [
            "0\n"
          ]
        }
      ]
    },
    {
      "cell_type": "markdown",
      "source": [
        "# Split the Dataset"
      ],
      "metadata": {
        "id": "i4sFl2XRWJmu"
      }
    },
    {
      "cell_type": "code",
      "source": [
        "from sklearn.model_selection import train_test_split\n",
        "\n",
        "# Split dataset into training, validation, and test sets\n",
        "X_train, X_temp, y_train, y_temp = train_test_split(processed_train_images, normalized_keypoints, test_size=0.2, random_state=42)\n",
        "X_val, X_test, y_val, y_test = train_test_split(X_temp, y_temp, test_size=0.5, random_state=42)"
      ],
      "metadata": {
        "id": "yDydQ3bzWHOR"
      },
      "execution_count": 8,
      "outputs": []
    },
    {
      "cell_type": "code",
      "source": [
        "X_train.shape"
      ],
      "metadata": {
        "colab": {
          "base_uri": "https://localhost:8080/"
        },
        "id": "xgs374JSXFhI",
        "outputId": "199bfc22-29ab-4d47-85d1-99113d3699c0"
      },
      "execution_count": 9,
      "outputs": [
        {
          "output_type": "execute_result",
          "data": {
            "text/plain": [
              "(5639, 96, 96, 1)"
            ]
          },
          "metadata": {},
          "execution_count": 9
        }
      ]
    },
    {
      "cell_type": "code",
      "source": [
        "X_val.shape"
      ],
      "metadata": {
        "colab": {
          "base_uri": "https://localhost:8080/"
        },
        "id": "tIDVpo-_XJRW",
        "outputId": "d3871530-6a7a-46b7-be68-6b67b8af15e9"
      },
      "execution_count": 10,
      "outputs": [
        {
          "output_type": "execute_result",
          "data": {
            "text/plain": [
              "(705, 96, 96, 1)"
            ]
          },
          "metadata": {},
          "execution_count": 10
        }
      ]
    },
    {
      "cell_type": "markdown",
      "source": [
        "# Define the CNN Model"
      ],
      "metadata": {
        "id": "gmM9EnxDWQOv"
      }
    },
    {
      "cell_type": "code",
      "source": [
        "from keras.models import Sequential\n",
        "from keras.layers import Conv2D, MaxPooling2D, Flatten, Dense, Dropout\n",
        "\n",
        "def create_cnn_model(input_shape):\n",
        "    model = Sequential([\n",
        "        Conv2D(32, (3, 3), activation='relu', input_shape=input_shape),\n",
        "        MaxPooling2D((2, 2)),\n",
        "        Conv2D(64, (3, 3), activation='relu'),\n",
        "        MaxPooling2D((2, 2)),\n",
        "        Conv2D(128, (3, 3), activation='relu'),\n",
        "        MaxPooling2D((2, 2)),\n",
        "        Flatten(),\n",
        "        Dense(512, activation='relu'),\n",
        "        Dropout(0.5),\n",
        "        Dense(30) # 15 keypoints with (x, y) coordinates\n",
        "    ])\n",
        "    return model\n",
        "\n",
        "model = create_cnn_model((96, 96, 1))\n",
        "model.compile(optimizer='adam', loss='mean_squared_error', metrics=['mae'])"
      ],
      "metadata": {
        "id": "HBlPttjDWLlh"
      },
      "execution_count": 11,
      "outputs": []
    },
    {
      "cell_type": "markdown",
      "source": [
        "# Train the Model"
      ],
      "metadata": {
        "id": "l9YXjFVrWb3C"
      }
    },
    {
      "cell_type": "code",
      "source": [
        "history = model.fit(X_train, y_train, epochs=50, batch_size=32, validation_data=(X_val, y_val))"
      ],
      "metadata": {
        "colab": {
          "base_uri": "https://localhost:8080/"
        },
        "id": "Ow3E5AmIWVK5",
        "outputId": "3df7c9d4-3bc3-4170-eaec-fd4acee7fde7"
      },
      "execution_count": 12,
      "outputs": [
        {
          "output_type": "stream",
          "name": "stdout",
          "text": [
            "Epoch 1/50\n",
            "177/177 [==============================] - 10s 18ms/step - loss: 0.0539 - mae: 0.1806 - val_loss: 0.0449 - val_mae: 0.1731\n",
            "Epoch 2/50\n",
            "177/177 [==============================] - 2s 12ms/step - loss: 0.0444 - mae: 0.1630 - val_loss: 0.0405 - val_mae: 0.1537\n",
            "Epoch 3/50\n",
            "177/177 [==============================] - 2s 12ms/step - loss: 0.0423 - mae: 0.1568 - val_loss: 0.0403 - val_mae: 0.1458\n",
            "Epoch 4/50\n",
            "177/177 [==============================] - 2s 12ms/step - loss: 0.0406 - mae: 0.1509 - val_loss: 0.0402 - val_mae: 0.1496\n",
            "Epoch 5/50\n",
            "177/177 [==============================] - 2s 12ms/step - loss: 0.0388 - mae: 0.1459 - val_loss: 0.0398 - val_mae: 0.1483\n",
            "Epoch 6/50\n",
            "177/177 [==============================] - 2s 13ms/step - loss: 0.0374 - mae: 0.1412 - val_loss: 0.0408 - val_mae: 0.1460\n",
            "Epoch 7/50\n",
            "177/177 [==============================] - 2s 14ms/step - loss: 0.0361 - mae: 0.1377 - val_loss: 0.0404 - val_mae: 0.1339\n",
            "Epoch 8/50\n",
            "177/177 [==============================] - 2s 12ms/step - loss: 0.0348 - mae: 0.1330 - val_loss: 0.0407 - val_mae: 0.1458\n",
            "Epoch 9/50\n",
            "177/177 [==============================] - 2s 12ms/step - loss: 0.0334 - mae: 0.1287 - val_loss: 0.0392 - val_mae: 0.1429\n",
            "Epoch 10/50\n",
            "177/177 [==============================] - 2s 12ms/step - loss: 0.0312 - mae: 0.1226 - val_loss: 0.0406 - val_mae: 0.1384\n",
            "Epoch 11/50\n",
            "177/177 [==============================] - 2s 12ms/step - loss: 0.0294 - mae: 0.1175 - val_loss: 0.0399 - val_mae: 0.1400\n",
            "Epoch 12/50\n",
            "177/177 [==============================] - 2s 13ms/step - loss: 0.0277 - mae: 0.1122 - val_loss: 0.0424 - val_mae: 0.1391\n",
            "Epoch 13/50\n",
            "177/177 [==============================] - 2s 13ms/step - loss: 0.0258 - mae: 0.1070 - val_loss: 0.0418 - val_mae: 0.1378\n",
            "Epoch 14/50\n",
            "177/177 [==============================] - 2s 12ms/step - loss: 0.0242 - mae: 0.1021 - val_loss: 0.0461 - val_mae: 0.1431\n",
            "Epoch 15/50\n",
            "177/177 [==============================] - 2s 12ms/step - loss: 0.0223 - mae: 0.0977 - val_loss: 0.0452 - val_mae: 0.1340\n",
            "Epoch 16/50\n",
            "177/177 [==============================] - 2s 12ms/step - loss: 0.0202 - mae: 0.0921 - val_loss: 0.0458 - val_mae: 0.1379\n",
            "Epoch 17/50\n",
            "177/177 [==============================] - 2s 12ms/step - loss: 0.0186 - mae: 0.0868 - val_loss: 0.0482 - val_mae: 0.1386\n",
            "Epoch 18/50\n",
            "177/177 [==============================] - 2s 13ms/step - loss: 0.0175 - mae: 0.0841 - val_loss: 0.0470 - val_mae: 0.1379\n",
            "Epoch 19/50\n",
            "177/177 [==============================] - 2s 14ms/step - loss: 0.0157 - mae: 0.0789 - val_loss: 0.0473 - val_mae: 0.1395\n",
            "Epoch 20/50\n",
            "177/177 [==============================] - 2s 12ms/step - loss: 0.0143 - mae: 0.0747 - val_loss: 0.0479 - val_mae: 0.1366\n",
            "Epoch 21/50\n",
            "177/177 [==============================] - 3s 17ms/step - loss: 0.0128 - mae: 0.0704 - val_loss: 0.0474 - val_mae: 0.1440\n",
            "Epoch 22/50\n",
            "177/177 [==============================] - 3s 15ms/step - loss: 0.0122 - mae: 0.0688 - val_loss: 0.0485 - val_mae: 0.1409\n",
            "Epoch 23/50\n",
            "177/177 [==============================] - 2s 12ms/step - loss: 0.0116 - mae: 0.0664 - val_loss: 0.0462 - val_mae: 0.1381\n",
            "Epoch 24/50\n",
            "177/177 [==============================] - 2s 14ms/step - loss: 0.0106 - mae: 0.0629 - val_loss: 0.0477 - val_mae: 0.1407\n",
            "Epoch 25/50\n",
            "177/177 [==============================] - 2s 13ms/step - loss: 0.0103 - mae: 0.0623 - val_loss: 0.0486 - val_mae: 0.1394\n",
            "Epoch 26/50\n",
            "177/177 [==============================] - 2s 12ms/step - loss: 0.0099 - mae: 0.0605 - val_loss: 0.0467 - val_mae: 0.1361\n",
            "Epoch 27/50\n",
            "177/177 [==============================] - 2s 12ms/step - loss: 0.0096 - mae: 0.0598 - val_loss: 0.0471 - val_mae: 0.1366\n",
            "Epoch 28/50\n",
            "177/177 [==============================] - 2s 12ms/step - loss: 0.0091 - mae: 0.0584 - val_loss: 0.0494 - val_mae: 0.1380\n",
            "Epoch 29/50\n",
            "177/177 [==============================] - 2s 12ms/step - loss: 0.0092 - mae: 0.0587 - val_loss: 0.0474 - val_mae: 0.1337\n",
            "Epoch 30/50\n",
            "177/177 [==============================] - 2s 13ms/step - loss: 0.0089 - mae: 0.0572 - val_loss: 0.0478 - val_mae: 0.1357\n",
            "Epoch 31/50\n",
            "177/177 [==============================] - 2s 13ms/step - loss: 0.0087 - mae: 0.0564 - val_loss: 0.0475 - val_mae: 0.1359\n",
            "Epoch 32/50\n",
            "177/177 [==============================] - 2s 12ms/step - loss: 0.0087 - mae: 0.0562 - val_loss: 0.0482 - val_mae: 0.1357\n",
            "Epoch 33/50\n",
            "177/177 [==============================] - 2s 12ms/step - loss: 0.0084 - mae: 0.0548 - val_loss: 0.0469 - val_mae: 0.1358\n",
            "Epoch 34/50\n",
            "177/177 [==============================] - 2s 12ms/step - loss: 0.0080 - mae: 0.0540 - val_loss: 0.0490 - val_mae: 0.1377\n",
            "Epoch 35/50\n",
            "177/177 [==============================] - 2s 12ms/step - loss: 0.0080 - mae: 0.0544 - val_loss: 0.0477 - val_mae: 0.1355\n",
            "Epoch 36/50\n",
            "177/177 [==============================] - 2s 13ms/step - loss: 0.0079 - mae: 0.0534 - val_loss: 0.0476 - val_mae: 0.1379\n",
            "Epoch 37/50\n",
            "177/177 [==============================] - 2s 13ms/step - loss: 0.0081 - mae: 0.0540 - val_loss: 0.0476 - val_mae: 0.1371\n",
            "Epoch 38/50\n",
            "177/177 [==============================] - 2s 12ms/step - loss: 0.0080 - mae: 0.0537 - val_loss: 0.0486 - val_mae: 0.1363\n",
            "Epoch 39/50\n",
            "177/177 [==============================] - 2s 12ms/step - loss: 0.0078 - mae: 0.0531 - val_loss: 0.0477 - val_mae: 0.1366\n",
            "Epoch 40/50\n",
            "177/177 [==============================] - 2s 12ms/step - loss: 0.0077 - mae: 0.0526 - val_loss: 0.0472 - val_mae: 0.1364\n",
            "Epoch 41/50\n",
            "177/177 [==============================] - 2s 12ms/step - loss: 0.0075 - mae: 0.0518 - val_loss: 0.0466 - val_mae: 0.1336\n",
            "Epoch 42/50\n",
            "177/177 [==============================] - 2s 13ms/step - loss: 0.0078 - mae: 0.0528 - val_loss: 0.0471 - val_mae: 0.1374\n",
            "Epoch 43/50\n",
            "177/177 [==============================] - 2s 13ms/step - loss: 0.0076 - mae: 0.0526 - val_loss: 0.0469 - val_mae: 0.1363\n",
            "Epoch 44/50\n",
            "177/177 [==============================] - 2s 14ms/step - loss: 0.0076 - mae: 0.0526 - val_loss: 0.0484 - val_mae: 0.1371\n",
            "Epoch 45/50\n",
            "177/177 [==============================] - 2s 12ms/step - loss: 0.0073 - mae: 0.0513 - val_loss: 0.0476 - val_mae: 0.1373\n",
            "Epoch 46/50\n",
            "177/177 [==============================] - 2s 12ms/step - loss: 0.0075 - mae: 0.0524 - val_loss: 0.0473 - val_mae: 0.1351\n",
            "Epoch 47/50\n",
            "177/177 [==============================] - 2s 12ms/step - loss: 0.0070 - mae: 0.0501 - val_loss: 0.0482 - val_mae: 0.1369\n",
            "Epoch 48/50\n",
            "177/177 [==============================] - 2s 13ms/step - loss: 0.0072 - mae: 0.0503 - val_loss: 0.0474 - val_mae: 0.1373\n",
            "Epoch 49/50\n",
            "177/177 [==============================] - 2s 13ms/step - loss: 0.0070 - mae: 0.0501 - val_loss: 0.0467 - val_mae: 0.1375\n",
            "Epoch 50/50\n",
            "177/177 [==============================] - 2s 12ms/step - loss: 0.0076 - mae: 0.0522 - val_loss: 0.0464 - val_mae: 0.1367\n"
          ]
        }
      ]
    },
    {
      "cell_type": "markdown",
      "source": [
        "# Model Evaluation"
      ],
      "metadata": {
        "id": "FmwEwtGuWlNw"
      }
    },
    {
      "cell_type": "code",
      "source": [
        "# Evaluate the model on the test set\n",
        "test_loss, test_mae = model.evaluate(X_test, y_test)\n",
        "\n",
        "# Visualize the model's predictions\n",
        "import matplotlib.pyplot as plt\n",
        "\n",
        "def plot_keypoints(image, keypoints):\n",
        "    plt.imshow(image.squeeze(), cmap='gray')\n",
        "    plt.scatter(keypoints[::2] * 96, keypoints[1::2] * 96, c='red')\n",
        "    plt.show()\n",
        "\n",
        "# Predict keypoints on a sample test image\n",
        "sample_image = X_test[0]\n",
        "predicted_keypoints = model.predict(np.expand_dims(sample_image, axis=0))[0]\n",
        "plot_keypoints(sample_image, predicted_keypoints)"
      ],
      "metadata": {
        "colab": {
          "base_uri": "https://localhost:8080/",
          "height": 468
        },
        "id": "Ua4UeP7PWf1g",
        "outputId": "56658a50-ee58-46a2-b2fd-6523c68746fc"
      },
      "execution_count": 13,
      "outputs": [
        {
          "output_type": "stream",
          "name": "stdout",
          "text": [
            "23/23 [==============================] - 0s 4ms/step - loss: 0.0436 - mae: 0.1293\n",
            "1/1 [==============================] - 0s 93ms/step\n"
          ]
        },
        {
          "output_type": "display_data",
          "data": {
            "text/plain": [
              "<Figure size 640x480 with 1 Axes>"
            ],
            "image/png": "[encoded data removed]"
          },
          "metadata": {}
        }
      ]
    },
    {
      "cell_type": "markdown",
      "source": [
        "# Hyperparameter Tuning and Data Augmentation"
      ],
      "metadata": {
        "id": "R-4fXUV7XPkR"
      }
    },
    {
      "cell_type": "code",
      "source": [
        "from keras.preprocessing.image import ImageDataGenerator\n",
        "\n",
        "datagen = ImageDataGenerator(\n",
        "    rotation_range=10,\n",
        "    width_shift_range=0.1,\n",
        "    height_shift_range=0.1,\n",
        "    zoom_range=0.2,\n",
        "    horizontal_flip=True\n",
        ")\n",
        "\n",
        "datagen.fit(X_train)\n",
        "\n",
        "# Train the model with data augmentation\n",
        "history = model.fit(datagen.flow(X_train, y_train, batch_size=32),\n",
        "                    validation_data=(X_val, y_val),\n",
        "                    epochs=50)"
      ],
      "metadata": {
        "colab": {
          "base_uri": "https://localhost:8080/"
        },
        "id": "zi5e_7LXXR7q",
        "outputId": "d6b9ef5d-79e9-4c0b-cf9a-32dc92d0354e"
      },
      "execution_count": 14,
      "outputs": [
        {
          "output_type": "stream",
          "name": "stdout",
          "text": [
            "Epoch 1/50\n",
            "177/177 [==============================] - 6s 33ms/step - loss: 0.0416 - mae: 0.1487 - val_loss: 0.0394 - val_mae: 0.1435\n",
            "Epoch 2/50\n",
            "177/177 [==============================] - 6s 33ms/step - loss: 0.0407 - mae: 0.1477 - val_loss: 0.0391 - val_mae: 0.1412\n",
            "Epoch 3/50\n",
            "177/177 [==============================] - 8s 43ms/step - loss: 0.0402 - mae: 0.1461 - val_loss: 0.0389 - val_mae: 0.1407\n",
            "Epoch 4/50\n",
            "177/177 [==============================] - 6s 33ms/step - loss: 0.0403 - mae: 0.1463 - val_loss: 0.0411 - val_mae: 0.1503\n",
            "Epoch 5/50\n",
            "177/177 [==============================] - 8s 43ms/step - loss: 0.0392 - mae: 0.1442 - val_loss: 0.0415 - val_mae: 0.1479\n",
            "Epoch 6/50\n",
            "177/177 [==============================] - 6s 33ms/step - loss: 0.0393 - mae: 0.1433 - val_loss: 0.0392 - val_mae: 0.1481\n",
            "Epoch 7/50\n",
            "177/177 [==============================] - 7s 42ms/step - loss: 0.0390 - mae: 0.1433 - val_loss: 0.0385 - val_mae: 0.1431\n",
            "Epoch 8/50\n",
            "177/177 [==============================] - 6s 33ms/step - loss: 0.0394 - mae: 0.1432 - val_loss: 0.0383 - val_mae: 0.1443\n",
            "Epoch 9/50\n",
            "177/177 [==============================] - 8s 43ms/step - loss: 0.0384 - mae: 0.1416 - val_loss: 0.0396 - val_mae: 0.1461\n",
            "Epoch 10/50\n",
            "177/177 [==============================] - 6s 33ms/step - loss: 0.0382 - mae: 0.1410 - val_loss: 0.0418 - val_mae: 0.1486\n",
            "Epoch 11/50\n",
            "177/177 [==============================] - 7s 42ms/step - loss: 0.0382 - mae: 0.1405 - val_loss: 0.0380 - val_mae: 0.1399\n",
            "Epoch 12/50\n",
            "177/177 [==============================] - 7s 38ms/step - loss: 0.0382 - mae: 0.1404 - val_loss: 0.0377 - val_mae: 0.1368\n",
            "Epoch 13/50\n",
            "177/177 [==============================] - 6s 33ms/step - loss: 0.0379 - mae: 0.1396 - val_loss: 0.0398 - val_mae: 0.1427\n",
            "Epoch 14/50\n",
            "177/177 [==============================] - 7s 40ms/step - loss: 0.0373 - mae: 0.1376 - val_loss: 0.0377 - val_mae: 0.1381\n",
            "Epoch 15/50\n",
            "177/177 [==============================] - 6s 35ms/step - loss: 0.0376 - mae: 0.1380 - val_loss: 0.0384 - val_mae: 0.1418\n",
            "Epoch 16/50\n",
            "177/177 [==============================] - 7s 38ms/step - loss: 0.0375 - mae: 0.1386 - val_loss: 0.0387 - val_mae: 0.1401\n",
            "Epoch 17/50\n",
            "177/177 [==============================] - 6s 32ms/step - loss: 0.0376 - mae: 0.1381 - val_loss: 0.0386 - val_mae: 0.1406\n",
            "Epoch 18/50\n",
            "177/177 [==============================] - 8s 42ms/step - loss: 0.0374 - mae: 0.1382 - val_loss: 0.0379 - val_mae: 0.1359\n",
            "Epoch 19/50\n",
            "177/177 [==============================] - 6s 33ms/step - loss: 0.0378 - mae: 0.1393 - val_loss: 0.0404 - val_mae: 0.1418\n",
            "Epoch 20/50\n",
            "177/177 [==============================] - 7s 42ms/step - loss: 0.0370 - mae: 0.1370 - val_loss: 0.0424 - val_mae: 0.1467\n",
            "Epoch 21/50\n",
            "177/177 [==============================] - 6s 33ms/step - loss: 0.0371 - mae: 0.1369 - val_loss: 0.0372 - val_mae: 0.1368\n",
            "Epoch 22/50\n",
            "177/177 [==============================] - 8s 43ms/step - loss: 0.0371 - mae: 0.1370 - val_loss: 0.0385 - val_mae: 0.1366\n",
            "Epoch 23/50\n",
            "177/177 [==============================] - 6s 33ms/step - loss: 0.0369 - mae: 0.1368 - val_loss: 0.0377 - val_mae: 0.1328\n",
            "Epoch 24/50\n",
            "177/177 [==============================] - 8s 43ms/step - loss: 0.0368 - mae: 0.1358 - val_loss: 0.0380 - val_mae: 0.1358\n",
            "Epoch 25/50\n",
            "177/177 [==============================] - 6s 33ms/step - loss: 0.0364 - mae: 0.1359 - val_loss: 0.0385 - val_mae: 0.1335\n",
            "Epoch 26/50\n",
            "177/177 [==============================] - 7s 42ms/step - loss: 0.0368 - mae: 0.1357 - val_loss: 0.0373 - val_mae: 0.1376\n",
            "Epoch 27/50\n",
            "177/177 [==============================] - 6s 33ms/step - loss: 0.0366 - mae: 0.1362 - val_loss: 0.0395 - val_mae: 0.1437\n",
            "Epoch 28/50\n",
            "177/177 [==============================] - 7s 42ms/step - loss: 0.0364 - mae: 0.1349 - val_loss: 0.0408 - val_mae: 0.1447\n",
            "Epoch 29/50\n",
            "177/177 [==============================] - 6s 33ms/step - loss: 0.0362 - mae: 0.1343 - val_loss: 0.0388 - val_mae: 0.1428\n",
            "Epoch 30/50\n",
            "177/177 [==============================] - 7s 42ms/step - loss: 0.0361 - mae: 0.1339 - val_loss: 0.0379 - val_mae: 0.1353\n",
            "Epoch 31/50\n",
            "177/177 [==============================] - 6s 33ms/step - loss: 0.0363 - mae: 0.1344 - val_loss: 0.0411 - val_mae: 0.1467\n",
            "Epoch 32/50\n",
            "177/177 [==============================] - 7s 37ms/step - loss: 0.0363 - mae: 0.1357 - val_loss: 0.0426 - val_mae: 0.1426\n",
            "Epoch 33/50\n",
            "177/177 [==============================] - 6s 34ms/step - loss: 0.0358 - mae: 0.1332 - val_loss: 0.0396 - val_mae: 0.1350\n",
            "Epoch 34/50\n",
            "177/177 [==============================] - 6s 33ms/step - loss: 0.0358 - mae: 0.1331 - val_loss: 0.0401 - val_mae: 0.1393\n",
            "Epoch 35/50\n",
            "177/177 [==============================] - 7s 41ms/step - loss: 0.0364 - mae: 0.1350 - val_loss: 0.0393 - val_mae: 0.1441\n",
            "Epoch 36/50\n",
            "177/177 [==============================] - 6s 33ms/step - loss: 0.0362 - mae: 0.1345 - val_loss: 0.0394 - val_mae: 0.1418\n",
            "Epoch 37/50\n",
            "177/177 [==============================] - 6s 33ms/step - loss: 0.0356 - mae: 0.1332 - val_loss: 0.0420 - val_mae: 0.1441\n",
            "Epoch 38/50\n",
            "177/177 [==============================] - 8s 43ms/step - loss: 0.0356 - mae: 0.1333 - val_loss: 0.0393 - val_mae: 0.1311\n",
            "Epoch 39/50\n",
            "177/177 [==============================] - 6s 35ms/step - loss: 0.0356 - mae: 0.1325 - val_loss: 0.0379 - val_mae: 0.1346\n",
            "Epoch 40/50\n",
            "177/177 [==============================] - 6s 33ms/step - loss: 0.0353 - mae: 0.1320 - val_loss: 0.0407 - val_mae: 0.1370\n",
            "Epoch 41/50\n",
            "177/177 [==============================] - 7s 42ms/step - loss: 0.0356 - mae: 0.1321 - val_loss: 0.0414 - val_mae: 0.1464\n",
            "Epoch 42/50\n",
            "177/177 [==============================] - 6s 33ms/step - loss: 0.0355 - mae: 0.1329 - val_loss: 0.0396 - val_mae: 0.1364\n",
            "Epoch 43/50\n",
            "177/177 [==============================] - 7s 42ms/step - loss: 0.0351 - mae: 0.1309 - val_loss: 0.0401 - val_mae: 0.1438\n",
            "Epoch 44/50\n",
            "177/177 [==============================] - 6s 33ms/step - loss: 0.0358 - mae: 0.1330 - val_loss: 0.0409 - val_mae: 0.1419\n",
            "Epoch 45/50\n",
            "177/177 [==============================] - 8s 43ms/step - loss: 0.0351 - mae: 0.1315 - val_loss: 0.0390 - val_mae: 0.1356\n",
            "Epoch 46/50\n",
            "177/177 [==============================] - 6s 33ms/step - loss: 0.0351 - mae: 0.1313 - val_loss: 0.0389 - val_mae: 0.1361\n",
            "Epoch 47/50\n",
            "177/177 [==============================] - 7s 42ms/step - loss: 0.0353 - mae: 0.1313 - val_loss: 0.0398 - val_mae: 0.1440\n",
            "Epoch 48/50\n",
            "177/177 [==============================] - 6s 33ms/step - loss: 0.0352 - mae: 0.1325 - val_loss: 0.0389 - val_mae: 0.1342\n",
            "Epoch 49/50\n",
            "177/177 [==============================] - 7s 41ms/step - loss: 0.0353 - mae: 0.1312 - val_loss: 0.0411 - val_mae: 0.1402\n",
            "Epoch 50/50\n",
            "177/177 [==============================] - 6s 33ms/step - loss: 0.0345 - mae: 0.1296 - val_loss: 0.0401 - val_mae: 0.1394\n"
          ]
        }
      ]
    },
    {
      "cell_type": "markdown",
      "source": [
        "# Train the model with callbacks"
      ],
      "metadata": {
        "id": "5E5skxnThXwr"
      }
    },
    {
      "cell_type": "code",
      "source": [
        "from keras.callbacks import ReduceLROnPlateau, EarlyStopping, ModelCheckpoint\n",
        "\n",
        "# Callbacks\n",
        "reduce_lr = ReduceLROnPlateau(monitor='val_loss', factor=0.2, patience=5, min_lr=0.001)\n",
        "early_stopping = EarlyStopping(monitor='val_loss', patience=10, restore_best_weights=True)\n",
        "model_checkpoint = ModelCheckpoint('best_model.h5', monitor='val_loss', save_best_only=True)\n",
        "\n",
        "# Train the model with data augmentation and callbacks\n",
        "history = model.fit(datagen.flow(X_train, y_train, batch_size=32),\n",
        "                    validation_data=(X_val, y_val),\n",
        "                    epochs=50,\n",
        "                    callbacks=[reduce_lr, early_stopping, model_checkpoint])"
      ],
      "metadata": {
        "colab": {
          "base_uri": "https://localhost:8080/"
        },
        "id": "ZX4bToobhLxX",
        "outputId": "8383e23b-e400-4e80-d2ec-374b48d5e568"
      },
      "execution_count": 15,
      "outputs": [
        {
          "output_type": "stream",
          "name": "stdout",
          "text": [
            "Epoch 1/50\n",
            "177/177 [==============================] - 8s 43ms/step - loss: 0.0350 - mae: 0.1306 - val_loss: 0.0391 - val_mae: 0.1315 - lr: 0.0010\n",
            "Epoch 2/50\n"
          ]
        },
        {
          "output_type": "stream",
          "name": "stderr",
          "text": [
            "/usr/local/lib/python3.10/dist-packages/keras/src/engine/training.py:3103: UserWarning: You are saving your model as an HDF5 file via `model.save()`. This file format is considered legacy. We recommend using instead the native Keras format, e.g. `model.save('my_model.keras')`.\n",
            "  saving_api.save_model(\n"
          ]
        },
        {
          "output_type": "stream",
          "name": "stdout",
          "text": [
            "177/177 [==============================] - 6s 33ms/step - loss: 0.0353 - mae: 0.1311 - val_loss: 0.0400 - val_mae: 0.1387 - lr: 0.0010\n",
            "Epoch 3/50\n",
            "177/177 [==============================] - 8s 44ms/step - loss: 0.0350 - mae: 0.1308 - val_loss: 0.0385 - val_mae: 0.1395 - lr: 0.0010\n",
            "Epoch 4/50\n",
            "177/177 [==============================] - 6s 34ms/step - loss: 0.0348 - mae: 0.1304 - val_loss: 0.0383 - val_mae: 0.1365 - lr: 0.0010\n",
            "Epoch 5/50\n",
            "177/177 [==============================] - 7s 42ms/step - loss: 0.0349 - mae: 0.1309 - val_loss: 0.0415 - val_mae: 0.1433 - lr: 0.0010\n",
            "Epoch 6/50\n",
            "177/177 [==============================] - 6s 33ms/step - loss: 0.0350 - mae: 0.1305 - val_loss: 0.0391 - val_mae: 0.1388 - lr: 0.0010\n",
            "Epoch 7/50\n",
            "177/177 [==============================] - 8s 43ms/step - loss: 0.0343 - mae: 0.1291 - val_loss: 0.0411 - val_mae: 0.1402 - lr: 0.0010\n",
            "Epoch 8/50\n",
            "177/177 [==============================] - 6s 33ms/step - loss: 0.0344 - mae: 0.1286 - val_loss: 0.0384 - val_mae: 0.1382 - lr: 0.0010\n",
            "Epoch 9/50\n",
            "177/177 [==============================] - 6s 32ms/step - loss: 0.0348 - mae: 0.1303 - val_loss: 0.0402 - val_mae: 0.1389 - lr: 0.0010\n",
            "Epoch 10/50\n",
            "177/177 [==============================] - 7s 41ms/step - loss: 0.0345 - mae: 0.1304 - val_loss: 0.0423 - val_mae: 0.1459 - lr: 0.0010\n",
            "Epoch 11/50\n",
            "177/177 [==============================] - 6s 33ms/step - loss: 0.0344 - mae: 0.1291 - val_loss: 0.0393 - val_mae: 0.1390 - lr: 0.0010\n",
            "Epoch 12/50\n",
            "177/177 [==============================] - 7s 42ms/step - loss: 0.0342 - mae: 0.1283 - val_loss: 0.0393 - val_mae: 0.1370 - lr: 0.0010\n",
            "Epoch 13/50\n",
            "177/177 [==============================] - 6s 32ms/step - loss: 0.0343 - mae: 0.1284 - val_loss: 0.0386 - val_mae: 0.1373 - lr: 0.0010\n",
            "Epoch 14/50\n",
            "177/177 [==============================] - 7s 40ms/step - loss: 0.0343 - mae: 0.1290 - val_loss: 0.0389 - val_mae: 0.1372 - lr: 0.0010\n"
          ]
        }
      ]
    },
    {
      "cell_type": "code",
      "source": [
        "import matplotlib.pyplot as plt\n",
        "\n",
        "# Plot training & validation loss values\n",
        "plt.figure(figsize=(12, 4))\n",
        "plt.subplot(1, 2, 1)\n",
        "plt.plot(history.history['loss'])\n",
        "plt.plot(history.history['val_loss'])\n",
        "plt.title('Model Loss')\n",
        "plt.xlabel('Epoch')\n",
        "plt.ylabel('Loss')\n",
        "plt.legend(['Train', 'Validation'], loc='upper left')\n",
        "\n",
        "# Plot training & validation MAE values\n",
        "plt.subplot(1, 2, 2)\n",
        "plt.plot(history.history['mae'])\n",
        "plt.plot(history.history['val_mae'])\n",
        "plt.title('Model MAE')\n",
        "plt.xlabel('Epoch')\n",
        "plt.ylabel('MAE')\n",
        "plt.legend(['Train', 'Validation'], loc='upper left')\n",
        "\n",
        "plt.show()"
      ],
      "metadata": {
        "colab": {
          "base_uri": "https://localhost:8080/",
          "height": 410
        },
        "id": "2Et4tVahhMbT",
        "outputId": "8cf11b2d-973f-4dd4-8b33-30a6f231f60a"
      },
      "execution_count": 16,
      "outputs": [
        {
          "output_type": "display_data",
          "data": {
            "text/plain": [
              "<Figure size 1200x400 with 2 Axes>"
            ],
            "image/png": "[encoded data removed]"
          },
          "metadata": {}
        }
      ]
    }
  ]
}